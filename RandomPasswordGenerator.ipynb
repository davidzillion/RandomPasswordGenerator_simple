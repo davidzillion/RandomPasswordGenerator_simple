{
  "nbformat": 4,
  "nbformat_minor": 0,
  "metadata": {
    "colab": {
      "name": "RandomPasswordGenerator.ipynb",
      "provenance": [],
      "authorship_tag": "ABX9TyPzaLC6Db/0TsJCizhWKwQ1",
      "include_colab_link": true
    },
    "kernelspec": {
      "name": "python3",
      "display_name": "Python 3"
    },
    "language_info": {
      "name": "python"
    }
  },
  "cells": [
    {
      "cell_type": "markdown",
      "metadata": {
        "id": "view-in-github",
        "colab_type": "text"
      },
      "source": [
        "<a href=\"https://colab.research.google.com/github/davidzillion/RandomPasswordGenerator_simple/blob/main/RandomPasswordGenerator.ipynb\" target=\"_parent\"><img src=\"https://colab.research.google.com/assets/colab-badge.svg\" alt=\"Open In Colab\"/></a>"
      ]
    },
    {
      "cell_type": "code",
      "metadata": {
        "id": "Y7WzYYq6eZjs"
      },
      "source": [
        "import random"
      ],
      "execution_count": null,
      "outputs": []
    },
    {
      "cell_type": "code",
      "metadata": {
        "id": "LqvgL02IgnYh"
      },
      "source": [
        "lower= \"abcdefghijklmnopqrstuvwxyz\"\n",
        "upper= \"ABCDEFGHIJKLMNOPQRSTUVWXYZ\"\n",
        "numbers= \"0123456789\"\n",
        "symbols= \"[]{}()*;/,_-\""
      ],
      "execution_count": null,
      "outputs": []
    },
    {
      "cell_type": "code",
      "metadata": {
        "id": "B4oo9cPlgncC"
      },
      "source": [
        "all= lower+upper+numbers+symbols "
      ],
      "execution_count": null,
      "outputs": []
    },
    {
      "cell_type": "code",
      "metadata": {
        "colab": {
          "base_uri": "https://localhost:8080/"
        },
        "id": "1cxY1sligne1",
        "outputId": "758a57cd-b3a9-4c67-ce11-3655fe2aa489"
      },
      "source": [
        "length= 16\n",
        "password= \"\".join(random.sample(all,length))\n",
        "print(\"password 1:\", password)"
      ],
      "execution_count": null,
      "outputs": [
        {
          "output_type": "stream",
          "name": "stdout",
          "text": [
            "password 1: GfgKPIWdcbzZ3ELQ\n"
          ]
        }
      ]
    }
  ]
}